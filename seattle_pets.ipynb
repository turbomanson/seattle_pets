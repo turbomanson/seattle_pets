{
 "cells": [
  {
   "cell_type": "code",
   "execution_count": 3,
   "metadata": {},
   "outputs": [],
   "source": [
    "import pandas as pd\n",
    "import numpy as np\n",
    "import matplotlib.pyplot as plt\n",
    "%matplotlib inline\n",
    "\n",
    "url = 'https://data.seattle.gov/resource/87w5-fd6d.csv'\n",
    "local = 'Seattle_Pet_Licenses.csv'\n",
    "\n",
    "raw_pets = pd.read_csv(local)\n",
    "raw_pets['License Issue Date'] = pd.to_datetime(raw_pets['License Issue Date'])\n",
    "#raw_pets['License Number'] = pd.to_numeric(raw_pets['License Number']) #alpha-numeric id\n",
    "#raw_pets['ZIP Code'] = pd.to_numeric(raw_pets['ZIP Code']) #need to examine null values\n"
   ]
  },
  {
   "cell_type": "code",
   "execution_count": 4,
   "metadata": {},
   "outputs": [
    {
     "name": "stdout",
     "output_type": "stream",
     "text": [
      "<class 'pandas.core.frame.DataFrame'>\n",
      "RangeIndex: 66042 entries, 0 to 66041\n",
      "Data columns (total 7 columns):\n",
      "License Issue Date    66042 non-null datetime64[ns]\n",
      "License Number        66042 non-null object\n",
      "Animal's Name         64685 non-null object\n",
      "Species               66042 non-null object\n",
      "Primary Breed         66042 non-null object\n",
      "Secondary Breed       22538 non-null object\n",
      "ZIP Code              65884 non-null object\n",
      "dtypes: datetime64[ns](1), object(6)\n",
      "memory usage: 3.5+ MB\n",
      "None\n"
     ]
    },
    {
     "data": {
      "text/html": [
       "<div>\n",
       "<style>\n",
       "    .dataframe thead tr:only-child th {\n",
       "        text-align: right;\n",
       "    }\n",
       "\n",
       "    .dataframe thead th {\n",
       "        text-align: left;\n",
       "    }\n",
       "\n",
       "    .dataframe tbody tr th {\n",
       "        vertical-align: top;\n",
       "    }\n",
       "</style>\n",
       "<table border=\"1\" class=\"dataframe\">\n",
       "  <thead>\n",
       "    <tr style=\"text-align: right;\">\n",
       "      <th></th>\n",
       "      <th>License Issue Date</th>\n",
       "      <th>License Number</th>\n",
       "      <th>Animal's Name</th>\n",
       "      <th>Species</th>\n",
       "      <th>Primary Breed</th>\n",
       "      <th>Secondary Breed</th>\n",
       "      <th>ZIP Code</th>\n",
       "    </tr>\n",
       "  </thead>\n",
       "  <tbody>\n",
       "    <tr>\n",
       "      <th>0</th>\n",
       "      <td>2005-03-29</td>\n",
       "      <td>130651</td>\n",
       "      <td>Ozzy</td>\n",
       "      <td>Dog</td>\n",
       "      <td>Dachshund, Standard Smooth Haired</td>\n",
       "      <td>NaN</td>\n",
       "      <td>98104</td>\n",
       "    </tr>\n",
       "    <tr>\n",
       "      <th>1</th>\n",
       "      <td>2009-12-23</td>\n",
       "      <td>898148</td>\n",
       "      <td>Jack</td>\n",
       "      <td>Dog</td>\n",
       "      <td>Schnauzer, Miniature</td>\n",
       "      <td>Terrier, Rat</td>\n",
       "      <td>98107</td>\n",
       "    </tr>\n",
       "    <tr>\n",
       "      <th>2</th>\n",
       "      <td>2006-01-20</td>\n",
       "      <td>29654</td>\n",
       "      <td>Ginger</td>\n",
       "      <td>Dog</td>\n",
       "      <td>Retriever, Golden</td>\n",
       "      <td>Retriever, Labrador</td>\n",
       "      <td>98117</td>\n",
       "    </tr>\n",
       "    <tr>\n",
       "      <th>3</th>\n",
       "      <td>2006-02-07</td>\n",
       "      <td>75432</td>\n",
       "      <td>Pepper</td>\n",
       "      <td>Cat</td>\n",
       "      <td>Manx</td>\n",
       "      <td>Mix</td>\n",
       "      <td>98103</td>\n",
       "    </tr>\n",
       "    <tr>\n",
       "      <th>4</th>\n",
       "      <td>2006-08-04</td>\n",
       "      <td>729899</td>\n",
       "      <td>Addy</td>\n",
       "      <td>Dog</td>\n",
       "      <td>Retriever, Golden</td>\n",
       "      <td>NaN</td>\n",
       "      <td>98105</td>\n",
       "    </tr>\n",
       "  </tbody>\n",
       "</table>\n",
       "</div>"
      ],
      "text/plain": [
       "  License Issue Date License Number Animal's Name Species  \\\n",
       "0         2005-03-29         130651          Ozzy     Dog   \n",
       "1         2009-12-23         898148          Jack     Dog   \n",
       "2         2006-01-20          29654        Ginger     Dog   \n",
       "3         2006-02-07          75432        Pepper     Cat   \n",
       "4         2006-08-04         729899          Addy     Dog   \n",
       "\n",
       "                       Primary Breed      Secondary Breed ZIP Code  \n",
       "0  Dachshund, Standard Smooth Haired                  NaN    98104  \n",
       "1               Schnauzer, Miniature         Terrier, Rat    98107  \n",
       "2                  Retriever, Golden  Retriever, Labrador    98117  \n",
       "3                               Manx                  Mix    98103  \n",
       "4                  Retriever, Golden                  NaN    98105  "
      ]
     },
     "execution_count": 4,
     "metadata": {},
     "output_type": "execute_result"
    }
   ],
   "source": [
    "print(raw_pets.info())\n",
    "raw_pets.head()"
   ]
  },
  {
   "cell_type": "code",
   "execution_count": 5,
   "metadata": {},
   "outputs": [
    {
     "data": {
      "text/plain": [
       "<matplotlib.axes._subplots.AxesSubplot at 0x10dc04208>"
      ]
     },
     "execution_count": 5,
     "metadata": {},
     "output_type": "execute_result"
    },
    {
     "data": {
      "image/png": "[encoded data removed]",
      "text/plain": [
       "<matplotlib.figure.Figure at 0x10dbd6cc0>"
      ]
     },
     "metadata": {},
     "output_type": "display_data"
    }
   ],
   "source": [
    "raw_pets.groupby('Species').count().plot(kind=\"bar\")"
   ]
  },
  {
   "cell_type": "code",
   "execution_count": null,
   "metadata": {
    "collapsed": true
   },
   "outputs": [],
   "source": []
  },
  {
   "cell_type": "code",
   "execution_count": null,
   "metadata": {},
   "outputs": [],
   "source": [
    "name_counts = (pd.DataFrame(raw_pets['Animal\\'s Name'].value_counts())\n",
    "                       .reset_index())\n",
    "#name_counts.columns = ['Name', 'Count']"
   ]
  },
  {
   "cell_type": "code",
   "execution_count": null,
   "metadata": {},
   "outputs": [],
   "source": [
    "name_counts"
   ]
  },
  {
   "cell_type": "code",
   "execution_count": null,
   "metadata": {
    "collapsed": true
   },
   "outputs": [],
   "source": []
  }
 ],
 "metadata": {
  "kernelspec": {
   "display_name": "Python 3",
   "language": "python",
   "name": "python3"
  },
  "language_info": {
   "codemirror_mode": {
    "name": "ipython",
    "version": 3
   },
   "file_extension": ".py",
   "mimetype": "text/x-python",
   "name": "python",
   "nbconvert_exporter": "python",
   "pygments_lexer": "ipython3",
   "version": "3.6.3"
  }
 },
 "nbformat": 4,
 "nbformat_minor": 2
}
