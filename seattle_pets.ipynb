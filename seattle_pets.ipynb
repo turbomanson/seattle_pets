{
 "cells": [
  {
   "cell_type": "markdown",
   "metadata": {},
   "source": [
    "## Seattle Pet License Data \n",
    "\n",
    "A fun look at the pets that live in and around Seattle.  I downloaded the data Jan 30 2018 from https://data.seattle.gov There is a SODA API tolken you can register for if I wanted to make a dashboard or automate pulling the data down, its supposed to be refreshed quarterly. However, the last time the data was updated was over a year ago, January 24, 2017.  For now I just really curious what kinds of pets people have and what they name them."
   ]
  },
  {
   "cell_type": "code",
   "execution_count": 1,
   "metadata": {},
   "outputs": [
    {
     "name": "stdout",
     "output_type": "stream",
     "text": [
      "<class 'pandas.core.frame.DataFrame'>\n",
      "RangeIndex: 66042 entries, 0 to 66041\n",
      "Data columns (total 6 columns):\n",
      "license_issued_date    66042 non-null datetime64[ns]\n",
      "animal_name            64685 non-null object\n",
      "species                66042 non-null object\n",
      "primary_breed          66042 non-null object\n",
      "secondary_breed        22538 non-null object\n",
      "zip_code               65884 non-null object\n",
      "dtypes: datetime64[ns](1), object(5)\n",
      "memory usage: 3.0+ MB\n",
      "\n",
      " Most Recent Data:\n"
     ]
    },
    {
     "data": {
      "text/html": [
       "<div>\n",
       "<style>\n",
       "    .dataframe thead tr:only-child th {\n",
       "        text-align: right;\n",
       "    }\n",
       "\n",
       "    .dataframe thead th {\n",
       "        text-align: left;\n",
       "    }\n",
       "\n",
       "    .dataframe tbody tr th {\n",
       "        vertical-align: top;\n",
       "    }\n",
       "</style>\n",
       "<table border=\"1\" class=\"dataframe\">\n",
       "  <thead>\n",
       "    <tr style=\"text-align: right;\">\n",
       "      <th></th>\n",
       "      <th>license_issued_date</th>\n",
       "      <th>animal_name</th>\n",
       "      <th>species</th>\n",
       "      <th>primary_breed</th>\n",
       "      <th>secondary_breed</th>\n",
       "      <th>zip_code</th>\n",
       "    </tr>\n",
       "  </thead>\n",
       "  <tbody>\n",
       "    <tr>\n",
       "      <th>63920</th>\n",
       "      <td>2016-12-31</td>\n",
       "      <td>Jasper</td>\n",
       "      <td>Dog</td>\n",
       "      <td>Terrier, American Pit Bull</td>\n",
       "      <td>Retriever, Labrador</td>\n",
       "      <td>98136</td>\n",
       "    </tr>\n",
       "    <tr>\n",
       "      <th>64689</th>\n",
       "      <td>2016-12-31</td>\n",
       "      <td>Benjamin</td>\n",
       "      <td>Dog</td>\n",
       "      <td>Beagle</td>\n",
       "      <td>NaN</td>\n",
       "      <td>98117</td>\n",
       "    </tr>\n",
       "    <tr>\n",
       "      <th>64783</th>\n",
       "      <td>2016-12-31</td>\n",
       "      <td>Smudge</td>\n",
       "      <td>Cat</td>\n",
       "      <td>Siamese</td>\n",
       "      <td>NaN</td>\n",
       "      <td>98117</td>\n",
       "    </tr>\n",
       "    <tr>\n",
       "      <th>65073</th>\n",
       "      <td>2016-12-31</td>\n",
       "      <td>ROSE</td>\n",
       "      <td>Cat</td>\n",
       "      <td>Domestic Medium Hair</td>\n",
       "      <td>Mix</td>\n",
       "      <td>98117</td>\n",
       "    </tr>\n",
       "    <tr>\n",
       "      <th>63206</th>\n",
       "      <td>2016-12-31</td>\n",
       "      <td>Foxy</td>\n",
       "      <td>Cat</td>\n",
       "      <td>Domestic Shorthair</td>\n",
       "      <td>NaN</td>\n",
       "      <td>98107</td>\n",
       "    </tr>\n",
       "  </tbody>\n",
       "</table>\n",
       "</div>"
      ],
      "text/plain": [
       "      license_issued_date animal_name species               primary_breed  \\\n",
       "63920          2016-12-31      Jasper     Dog  Terrier, American Pit Bull   \n",
       "64689          2016-12-31    Benjamin     Dog                      Beagle   \n",
       "64783          2016-12-31      Smudge     Cat                     Siamese   \n",
       "65073          2016-12-31        ROSE     Cat        Domestic Medium Hair   \n",
       "63206          2016-12-31        Foxy     Cat          Domestic Shorthair   \n",
       "\n",
       "           secondary_breed zip_code  \n",
       "63920  Retriever, Labrador    98136  \n",
       "64689                  NaN    98117  \n",
       "64783                  NaN    98117  \n",
       "65073                  Mix    98117  \n",
       "63206                  NaN    98107  "
      ]
     },
     "execution_count": 1,
     "metadata": {},
     "output_type": "execute_result"
    }
   ],
   "source": [
    "import pandas as pd\n",
    "pd.set_option('display.max_rows', 500)\n",
    "\n",
    "import numpy as np\n",
    "import matplotlib.pyplot as plt\n",
    "%matplotlib inline\n",
    "\n",
    "url = 'https://data.seattle.gov/resource/87w5-fd6d.csv'\n",
    "local = 'Seattle_Pet_Licenses.csv'\n",
    "\n",
    "raw_pets = pd.read_csv(local)\n",
    "\n",
    "#make the column names more user friendly\n",
    "raw_pets.columns = (['license_issued_date', 'license_number', \n",
    "                     'animal_name', 'species','primary_breed', \n",
    "                     'secondary_breed','zip_code'])\n",
    "#we cant do much with the alpha numeric license number and many null values so drop it\n",
    "raw_pets.drop('license_number', inplace=True, axis=1)\n",
    "\n",
    "#set date column\n",
    "raw_pets.license_issued_date = pd.to_datetime(raw_pets.license_issued_date)\n",
    "\n",
    "#raw_pets['ZIP Code'] = pd.to_numeric(raw_pets['ZIP Code']) \n",
    "#^need to examine null values\n",
    "raw_pets.info()\n",
    "print('\\n Most Recent Data:')\n",
    "raw_pets.sort_values('license_issued_date').tail()"
   ]
  },
  {
   "cell_type": "markdown",
   "metadata": {},
   "source": [
    "### Dogs, cats or ?  \n",
    "Let's take a look at the species of all these pet licenses."
   ]
  },
  {
   "cell_type": "code",
   "execution_count": 2,
   "metadata": {
    "scrolled": false
   },
   "outputs": [
    {
     "name": "stdout",
     "output_type": "stream",
     "text": [
      "Species:\n",
      "Dog          43076\n",
      "Cat          22915\n",
      "Livestock       51\n",
      "Name: species, dtype: int64\n",
      "\n",
      " Breeds of Livestock:\n",
      "Miniature      44\n",
      "Pot-Bellied     4\n",
      "Standard        2\n",
      "Pot Bellied     1\n",
      "Name: primary_breed, dtype: int64\n"
     ]
    },
    {
     "data": {
      "image/png": "[encoded data removed]",
      "text/plain": [
       "<matplotlib.figure.Figure at 0x10a93c3c8>"
      ]
     },
     "metadata": {},
     "output_type": "display_data"
    }
   ],
   "source": [
    "print('Species:')\n",
    "print(raw_pets.species.value_counts())\n",
    "raw_pets.species.value_counts().plot(kind='bar', title='Pet Species')\n",
    "print('\\n Breeds of Livestock:')\n",
    "print(raw_pets[raw_pets.species=='Livestock'].primary_breed.value_counts())"
   ]
  },
  {
   "cell_type": "markdown",
   "metadata": {},
   "source": [
    "### Top Ten Names For Each Pet Species  \n",
    "Interestingly 'Lucy' is the most common name for Cats and Dogs. While 'Bella', 'Max' and 'Charlie' are also in the top 10 for both cats and dogs."
   ]
  },
  {
   "cell_type": "code",
   "execution_count": 3,
   "metadata": {},
   "outputs": [
    {
     "name": "stdout",
     "output_type": "stream",
     "text": [
      "Top 10 Dog Names:\n",
      "Lucy       416\n",
      "Charlie    348\n",
      "Bella      338\n",
      "Buddy      256\n",
      "Daisy      256\n",
      "Max        254\n",
      "Molly      243\n",
      "Luna       242\n",
      "Lola       232\n",
      "Maggie     226\n",
      "Name: animal_name, dtype: int64\n",
      "\n",
      " Top 10 Cat Names:\n",
      "Lucy       150\n",
      "Max        120\n",
      "Luna       119\n",
      "Bella      113\n",
      "Oliver     108\n",
      "Charlie     99\n",
      "Lily        93\n",
      "Jack        87\n",
      "Sophie      81\n",
      "Shadow      69\n",
      "Name: animal_name, dtype: int64\n",
      "\n",
      " Top 10 Livestock Names:\n",
      "Heidi                     2\n",
      "Fuzzy Peaches             2\n",
      "Daisy                     2\n",
      "Moppet                    2\n",
      "Teddy                     1\n",
      "Roxy                      1\n",
      "Professor Nibblesworth    1\n",
      "Rosie                     1\n",
      "Squiggie                  1\n",
      "Mugsy                     1\n",
      "Name: animal_name, dtype: int64\n"
     ]
    }
   ],
   "source": [
    "print('Top 10 Dog Names:')\n",
    "print(raw_pets[raw_pets.species == 'Dog']['animal_name'].value_counts().head(10))\n",
    "print('\\n Top 10 Cat Names:')\n",
    "print(raw_pets[raw_pets.species == 'Cat']['animal_name'].value_counts().head(10))\n",
    "print('\\n Top 10 Livestock Names:')\n",
    "print(raw_pets[raw_pets.species == 'Livestock']['animal_name'].value_counts().head(10))"
   ]
  },
  {
   "cell_type": "markdown",
   "metadata": {},
   "source": [
    "### What kind of cats and dogs are popular?  \n",
    "Looking at the 20 most popular of the 267 different dog breeds and  53 different cat breeds."
   ]
  },
  {
   "cell_type": "code",
   "execution_count": 4,
   "metadata": {},
   "outputs": [
    {
     "name": "stdout",
     "output_type": "stream",
     "text": [
      "267 Different Dog Breeds\n"
     ]
    },
    {
     "data": {
      "text/plain": [
       "<matplotlib.axes._subplots.AxesSubplot at 0x10e038ef0>"
      ]
     },
     "execution_count": 4,
     "metadata": {},
     "output_type": "execute_result"
    },
    {
     "data": {
      "image/png": "[encoded data removed]",
      "text/plain": [
       "<matplotlib.figure.Figure at 0x10f6e45f8>"
      ]
     },
     "metadata": {},
     "output_type": "display_data"
    }
   ],
   "source": [
    "print(raw_pets[raw_pets.species == 'Dog']['primary_breed'].nunique(), 'Different Dog Breeds')\n",
    "(raw_pets[raw_pets.species == 'Dog']['primary_breed']\n",
    " .value_counts().head(20)\n",
    " .plot(kind='bar', title='Popular Dog Breeds'))"
   ]
  },
  {
   "cell_type": "code",
   "execution_count": 5,
   "metadata": {},
   "outputs": [
    {
     "name": "stdout",
     "output_type": "stream",
     "text": [
      "53 Different Cat Breeds\n"
     ]
    },
    {
     "data": {
      "text/plain": [
       "<matplotlib.axes._subplots.AxesSubplot at 0x10a92bf28>"
      ]
     },
     "execution_count": 5,
     "metadata": {},
     "output_type": "execute_result"
    },
    {
     "data": {
      "image/png": "[encoded data removed]",
      "text/plain": [
       "<matplotlib.figure.Figure at 0x10eb03da0>"
      ]
     },
     "metadata": {},
     "output_type": "display_data"
    }
   ],
   "source": [
    "print(raw_pets[raw_pets.species == 'Cat']['primary_breed'].nunique(), 'Different Cat Breeds')\n",
    "(raw_pets[raw_pets.species == 'Cat']['primary_breed'].value_counts().head(20).plot(kind='bar', title = 'Popular Cat Breeds'))\n"
   ]
  },
  {
   "cell_type": "markdown",
   "metadata": {},
   "source": [
    "### What percentage are pure breeds?"
   ]
  },
  {
   "cell_type": "code",
   "execution_count": 6,
   "metadata": {},
   "outputs": [
    {
     "name": "stdout",
     "output_type": "stream",
     "text": [
      "Percent Pure Breeds:\n"
     ]
    },
    {
     "data": {
      "text/plain": [
       "species\n",
       "Cat           79.297403\n",
       "Dog           58.691615\n",
       "Livestock    100.000000\n",
       "Name: percent_pure, dtype: float64"
      ]
     },
     "execution_count": 6,
     "metadata": {},
     "output_type": "execute_result"
    }
   ],
   "source": [
    "pets_by_species = raw_pets.groupby('species').count()\n",
    "\n",
    "pets_by_species['percent_pure'] = (pets_by_species['primary_breed']- pets_by_species['secondary_breed'])/pets_by_species['primary_breed']*100\n",
    "print('Percent Pure Breeds:')\n",
    "pets_by_species['percent_pure']"
   ]
  },
  {
   "cell_type": "markdown",
   "metadata": {},
   "source": [
    "### Number of pet licences issued over time  \n",
    "Now I will plot the number of monthly licences for each month, starting in 2013."
   ]
  },
  {
   "cell_type": "code",
   "execution_count": 7,
   "metadata": {},
   "outputs": [
    {
     "data": {
      "text/plain": [
       "<matplotlib.axes._subplots.AxesSubplot at 0x10e038c18>"
      ]
     },
     "execution_count": 7,
     "metadata": {},
     "output_type": "execute_result"
    },
    {
     "data": {
      "image/png": "[encoded data removed]",
      "text/plain": [
       "<matplotlib.figure.Figure at 0x10e187f28>"
      ]
     },
     "metadata": {},
     "output_type": "display_data"
    }
   ],
   "source": [
    "pets_time = raw_pets.loc[:,['license_issued_date']]\n",
    "pets_time['pet'] = 1\n",
    "\n",
    "\n",
    "pets_time = pets_time.set_index('license_issued_date')\n",
    "pets_monthly = pets_time.resample('M').sum()\n",
    "pets_monthly['2013-1':].plot()\n",
    "#\n",
    "#pets_monthly.reset_index(inplace=True)\n",
    "#pets_monthly"
   ]
  },
  {
   "cell_type": "markdown",
   "metadata": {},
   "source": [
    "### Conclusions:  \n",
    "\n",
    "This was a quick fun look at the pet licenses issued in Seattle. Some interesting follow up analysis could be done on the location of these pets by zip code and also look at human demographics to see areaa with the highest pet to person ratios. Also wish they would refresh the data because we only have a small snap shot of time where there is a lot of data. Overall some fun analysis."
   ]
  },
  {
   "cell_type": "code",
   "execution_count": null,
   "metadata": {
    "collapsed": true
   },
   "outputs": [],
   "source": []
  }
 ],
 "metadata": {
  "kernelspec": {
   "display_name": "Python 3",
   "language": "python",
   "name": "python3"
  },
  "language_info": {
   "codemirror_mode": {
    "name": "ipython",
    "version": 3
   },
   "file_extension": ".py",
   "mimetype": "text/x-python",
   "name": "python",
   "nbconvert_exporter": "python",
   "pygments_lexer": "ipython3",
   "version": "3.6.3"
  }
 },
 "nbformat": 4,
 "nbformat_minor": 2
}
